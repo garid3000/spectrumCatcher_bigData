{
 "cells": [
  {
   "cell_type": "code",
   "execution_count": 5,
   "id": "falling-tennis",
   "metadata": {},
   "outputs": [],
   "source": [
    "import numpy as np\n",
    "import pandas as pd\n",
    "import os"
   ]
  },
  {
   "cell_type": "code",
   "execution_count": 3,
   "id": "circular-justice",
   "metadata": {},
   "outputs": [],
   "source": [
    "d = '/data1/inoveco/inoveco_reference/Bule1/Wavelength1-5and1-3.csv'"
   ]
  },
  {
   "cell_type": "code",
   "execution_count": 7,
   "id": "comfortable-heath",
   "metadata": {},
   "outputs": [
    {
     "data": {
      "text/plain": [
       "True"
      ]
     },
     "execution_count": 7,
     "metadata": {},
     "output_type": "execute_result"
    }
   ],
   "source": [
    "os.path.isfile(d)"
   ]
  },
  {
   "cell_type": "code",
   "execution_count": 10,
   "id": "roman-hampton",
   "metadata": {},
   "outputs": [],
   "source": [
    "s = np.array(pd.read_csv(d))"
   ]
  },
  {
   "cell_type": "code",
   "execution_count": 11,
   "id": "decimal-ordering",
   "metadata": {},
   "outputs": [
    {
     "data": {
      "text/plain": [
       "(480, 8)"
      ]
     },
     "execution_count": 11,
     "metadata": {},
     "output_type": "execute_result"
    }
   ],
   "source": [
    "s.shape"
   ]
  },
  {
   "cell_type": "code",
   "execution_count": null,
   "id": "bearing-syntax",
   "metadata": {},
   "outputs": [],
   "source": []
  }
 ],
 "metadata": {
  "kernelspec": {
   "display_name": "Python 3",
   "language": "python",
   "name": "python3"
  },
  "language_info": {
   "codemirror_mode": {
    "name": "ipython",
    "version": 3
   },
   "file_extension": ".py",
   "mimetype": "text/x-python",
   "name": "python",
   "nbconvert_exporter": "python",
   "pygments_lexer": "ipython3",
   "version": "3.6.9"
  }
 },
 "nbformat": 4,
 "nbformat_minor": 5
}
